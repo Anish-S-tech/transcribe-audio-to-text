{
  "nbformat": 4,
  "nbformat_minor": 0,
  "metadata": {
    "colab": {
      "provenance": []
    },
    "kernelspec": {
      "name": "python3",
      "display_name": "Python 3"
    },
    "language_info": {
      "name": "python"
    }
  },
  "cells": [
    {
      "cell_type": "code",
      "execution_count": 19,
      "metadata": {
        "colab": {
          "base_uri": "https://localhost:8080/"
        },
        "id": "SM0t5Chu91AC",
        "outputId": "e7ec505d-cd79-4b66-cf22-97a211d3c3f4"
      },
      "outputs": [
        {
          "output_type": "stream",
          "name": "stdout",
          "text": [
            "Requirement already satisfied: SpeechRecognition in /usr/local/lib/python3.11/dist-packages (3.14.3)\n",
            "Requirement already satisfied: pydub in /usr/local/lib/python3.11/dist-packages (0.25.1)\n",
            "Requirement already satisfied: typing-extensions in /usr/local/lib/python3.11/dist-packages (from SpeechRecognition) (4.14.1)\n"
          ]
        }
      ],
      "source": [
        "!pip install SpeechRecognition pydub"
      ]
    },
    {
      "cell_type": "code",
      "source": [
        "from google.colab import files\n",
        "uploaded = files.upload()"
      ],
      "metadata": {
        "colab": {
          "base_uri": "https://localhost:8080/",
          "height": 73
        },
        "id": "BOC2CapyAt9F",
        "outputId": "bec000ac-a668-4eb0-e1de-1dc16b6b2e93"
      },
      "execution_count": 20,
      "outputs": [
        {
          "output_type": "display_data",
          "data": {
            "text/plain": [
              "<IPython.core.display.HTML object>"
            ],
            "text/html": [
              "\n",
              "     <input type=\"file\" id=\"files-774cf575-413b-405d-a0d3-c1abe1ffbf1e\" name=\"files[]\" multiple disabled\n",
              "        style=\"border:none\" />\n",
              "     <output id=\"result-774cf575-413b-405d-a0d3-c1abe1ffbf1e\">\n",
              "      Upload widget is only available when the cell has been executed in the\n",
              "      current browser session. Please rerun this cell to enable.\n",
              "      </output>\n",
              "      <script>// Copyright 2017 Google LLC\n",
              "//\n",
              "// Licensed under the Apache License, Version 2.0 (the \"License\");\n",
              "// you may not use this file except in compliance with the License.\n",
              "// You may obtain a copy of the License at\n",
              "//\n",
              "//      http://www.apache.org/licenses/LICENSE-2.0\n",
              "//\n",
              "// Unless required by applicable law or agreed to in writing, software\n",
              "// distributed under the License is distributed on an \"AS IS\" BASIS,\n",
              "// WITHOUT WARRANTIES OR CONDITIONS OF ANY KIND, either express or implied.\n",
              "// See the License for the specific language governing permissions and\n",
              "// limitations under the License.\n",
              "\n",
              "/**\n",
              " * @fileoverview Helpers for google.colab Python module.\n",
              " */\n",
              "(function(scope) {\n",
              "function span(text, styleAttributes = {}) {\n",
              "  const element = document.createElement('span');\n",
              "  element.textContent = text;\n",
              "  for (const key of Object.keys(styleAttributes)) {\n",
              "    element.style[key] = styleAttributes[key];\n",
              "  }\n",
              "  return element;\n",
              "}\n",
              "\n",
              "// Max number of bytes which will be uploaded at a time.\n",
              "const MAX_PAYLOAD_SIZE = 100 * 1024;\n",
              "\n",
              "function _uploadFiles(inputId, outputId) {\n",
              "  const steps = uploadFilesStep(inputId, outputId);\n",
              "  const outputElement = document.getElementById(outputId);\n",
              "  // Cache steps on the outputElement to make it available for the next call\n",
              "  // to uploadFilesContinue from Python.\n",
              "  outputElement.steps = steps;\n",
              "\n",
              "  return _uploadFilesContinue(outputId);\n",
              "}\n",
              "\n",
              "// This is roughly an async generator (not supported in the browser yet),\n",
              "// where there are multiple asynchronous steps and the Python side is going\n",
              "// to poll for completion of each step.\n",
              "// This uses a Promise to block the python side on completion of each step,\n",
              "// then passes the result of the previous step as the input to the next step.\n",
              "function _uploadFilesContinue(outputId) {\n",
              "  const outputElement = document.getElementById(outputId);\n",
              "  const steps = outputElement.steps;\n",
              "\n",
              "  const next = steps.next(outputElement.lastPromiseValue);\n",
              "  return Promise.resolve(next.value.promise).then((value) => {\n",
              "    // Cache the last promise value to make it available to the next\n",
              "    // step of the generator.\n",
              "    outputElement.lastPromiseValue = value;\n",
              "    return next.value.response;\n",
              "  });\n",
              "}\n",
              "\n",
              "/**\n",
              " * Generator function which is called between each async step of the upload\n",
              " * process.\n",
              " * @param {string} inputId Element ID of the input file picker element.\n",
              " * @param {string} outputId Element ID of the output display.\n",
              " * @return {!Iterable<!Object>} Iterable of next steps.\n",
              " */\n",
              "function* uploadFilesStep(inputId, outputId) {\n",
              "  const inputElement = document.getElementById(inputId);\n",
              "  inputElement.disabled = false;\n",
              "\n",
              "  const outputElement = document.getElementById(outputId);\n",
              "  outputElement.innerHTML = '';\n",
              "\n",
              "  const pickedPromise = new Promise((resolve) => {\n",
              "    inputElement.addEventListener('change', (e) => {\n",
              "      resolve(e.target.files);\n",
              "    });\n",
              "  });\n",
              "\n",
              "  const cancel = document.createElement('button');\n",
              "  inputElement.parentElement.appendChild(cancel);\n",
              "  cancel.textContent = 'Cancel upload';\n",
              "  const cancelPromise = new Promise((resolve) => {\n",
              "    cancel.onclick = () => {\n",
              "      resolve(null);\n",
              "    };\n",
              "  });\n",
              "\n",
              "  // Wait for the user to pick the files.\n",
              "  const files = yield {\n",
              "    promise: Promise.race([pickedPromise, cancelPromise]),\n",
              "    response: {\n",
              "      action: 'starting',\n",
              "    }\n",
              "  };\n",
              "\n",
              "  cancel.remove();\n",
              "\n",
              "  // Disable the input element since further picks are not allowed.\n",
              "  inputElement.disabled = true;\n",
              "\n",
              "  if (!files) {\n",
              "    return {\n",
              "      response: {\n",
              "        action: 'complete',\n",
              "      }\n",
              "    };\n",
              "  }\n",
              "\n",
              "  for (const file of files) {\n",
              "    const li = document.createElement('li');\n",
              "    li.append(span(file.name, {fontWeight: 'bold'}));\n",
              "    li.append(span(\n",
              "        `(${file.type || 'n/a'}) - ${file.size} bytes, ` +\n",
              "        `last modified: ${\n",
              "            file.lastModifiedDate ? file.lastModifiedDate.toLocaleDateString() :\n",
              "                                    'n/a'} - `));\n",
              "    const percent = span('0% done');\n",
              "    li.appendChild(percent);\n",
              "\n",
              "    outputElement.appendChild(li);\n",
              "\n",
              "    const fileDataPromise = new Promise((resolve) => {\n",
              "      const reader = new FileReader();\n",
              "      reader.onload = (e) => {\n",
              "        resolve(e.target.result);\n",
              "      };\n",
              "      reader.readAsArrayBuffer(file);\n",
              "    });\n",
              "    // Wait for the data to be ready.\n",
              "    let fileData = yield {\n",
              "      promise: fileDataPromise,\n",
              "      response: {\n",
              "        action: 'continue',\n",
              "      }\n",
              "    };\n",
              "\n",
              "    // Use a chunked sending to avoid message size limits. See b/62115660.\n",
              "    let position = 0;\n",
              "    do {\n",
              "      const length = Math.min(fileData.byteLength - position, MAX_PAYLOAD_SIZE);\n",
              "      const chunk = new Uint8Array(fileData, position, length);\n",
              "      position += length;\n",
              "\n",
              "      const base64 = btoa(String.fromCharCode.apply(null, chunk));\n",
              "      yield {\n",
              "        response: {\n",
              "          action: 'append',\n",
              "          file: file.name,\n",
              "          data: base64,\n",
              "        },\n",
              "      };\n",
              "\n",
              "      let percentDone = fileData.byteLength === 0 ?\n",
              "          100 :\n",
              "          Math.round((position / fileData.byteLength) * 100);\n",
              "      percent.textContent = `${percentDone}% done`;\n",
              "\n",
              "    } while (position < fileData.byteLength);\n",
              "  }\n",
              "\n",
              "  // All done.\n",
              "  yield {\n",
              "    response: {\n",
              "      action: 'complete',\n",
              "    }\n",
              "  };\n",
              "}\n",
              "\n",
              "scope.google = scope.google || {};\n",
              "scope.google.colab = scope.google.colab || {};\n",
              "scope.google.colab._files = {\n",
              "  _uploadFiles,\n",
              "  _uploadFilesContinue,\n",
              "};\n",
              "})(self);\n",
              "</script> "
            ]
          },
          "metadata": {}
        },
        {
          "output_type": "stream",
          "name": "stdout",
          "text": [
            "Saving Which Degrees Are Useless Now-English Listening Ep 819-261918.mp3 to Which Degrees Are Useless Now-English Listening Ep 819-261918 (2).mp3\n"
          ]
        }
      ]
    },
    {
      "cell_type": "code",
      "source": [
        "from pydub import AudioSegment\n",
        "import os\n",
        "import math\n",
        "import speech_recognition as sr"
      ],
      "metadata": {
        "id": "bXYOsr7E-2bg"
      },
      "execution_count": 21,
      "outputs": []
    },
    {
      "cell_type": "code",
      "source": [
        "audio_filename = list(uploaded.keys())[0]\n",
        "file_ext = os.path.splitext(audio_filename)[-1].lower()"
      ],
      "metadata": {
        "id": "UKJXKpuX-2-a"
      },
      "execution_count": 22,
      "outputs": []
    },
    {
      "cell_type": "code",
      "source": [
        "if file_ext == \".mp3\":\n",
        "    audio = AudioSegment.from_mp3(audio_filename)\n",
        "    wav_filename = \"converted.wav\"\n",
        "    audio.export(wav_filename, format=\"wav\")\n",
        "    print(f\"Converted {audio_filename} to {wav_filename}\")\n",
        "elif file_ext == \".wav\":\n",
        "    audio = AudioSegment.from_wav(audio_filename)\n",
        "    wav_filename = audio_filename\n",
        "    print(f\"Using uploaded WAV file: {wav_filename}\")\n",
        "else:\n",
        "    print(\"Unsupported format. Upload .mp3 or .wav.\")\n",
        "    exit()"
      ],
      "metadata": {
        "colab": {
          "base_uri": "https://localhost:8080/"
        },
        "id": "6WtMsIfGBZXb",
        "outputId": "99de48a0-3ca9-4831-f318-a70a737b9209"
      },
      "execution_count": 23,
      "outputs": [
        {
          "output_type": "stream",
          "name": "stdout",
          "text": [
            "Converted Which Degrees Are Useless Now-English Listening Ep 819-261918 (2).mp3 to converted.wav\n"
          ]
        }
      ]
    },
    {
      "cell_type": "code",
      "source": [
        "chunk_length_ms = 30 * 1000  # 30 seconds in milliseconds\n",
        "chunks = [audio[i:i + chunk_length_ms] for i in range(0, len(audio), chunk_length_ms)]\n",
        "print(f\"Total chunks created: {len(chunks)}\")"
      ],
      "metadata": {
        "colab": {
          "base_uri": "https://localhost:8080/"
        },
        "id": "5OHUGRc4Bh1-",
        "outputId": "5717d01d-0ecf-4973-f78a-1840f35c5503"
      },
      "execution_count": 24,
      "outputs": [
        {
          "output_type": "stream",
          "name": "stdout",
          "text": [
            "Total chunks created: 30\n"
          ]
        }
      ]
    },
    {
      "cell_type": "code",
      "source": [
        "recognizer = sr.Recognizer()\n",
        "full_transcription = \"\"\n",
        "\n",
        "for i, chunk in enumerate(chunks):\n",
        "    chunk_filename = f\"chunk_{i}.wav\"\n",
        "    chunk.export(chunk_filename, format=\"wav\")\n",
        "\n",
        "    with sr.AudioFile(chunk_filename) as source:\n",
        "        audio_data = recognizer.record(source)\n",
        "\n",
        "    try:\n",
        "        print(f\"Transcribing chunk {i + 1}/{len(chunks)}...\")\n",
        "        text = recognizer.recognize_google(audio_data)\n",
        "        full_transcription += text + \"\\n\"\n",
        "\n",
        "    except sr.UnknownValueError:\n",
        "        print(f\"Chunk {i + 1}: Could not understand audio.\")\n",
        "    except sr.RequestError as e:\n",
        "        print(f\"Chunk {i + 1}: API request failed: {e}\")\n",
        "        break\n"
      ],
      "metadata": {
        "colab": {
          "base_uri": "https://localhost:8080/"
        },
        "id": "RRv1kB53b1yU",
        "outputId": "b2344dec-5b30-408e-bd54-1d1d3c1c1a23"
      },
      "execution_count": 27,
      "outputs": [
        {
          "output_type": "stream",
          "name": "stdout",
          "text": [
            "Transcribing chunk 1/30...\n",
            "Transcribing chunk 2/30...\n",
            "Transcribing chunk 3/30...\n",
            "Transcribing chunk 4/30...\n",
            "Transcribing chunk 5/30...\n",
            "Transcribing chunk 6/30...\n",
            "Transcribing chunk 7/30...\n",
            "Transcribing chunk 8/30...\n",
            "Transcribing chunk 9/30...\n",
            "Transcribing chunk 10/30...\n",
            "Transcribing chunk 11/30...\n",
            "Transcribing chunk 12/30...\n",
            "Transcribing chunk 13/30...\n",
            "Transcribing chunk 14/30...\n",
            "Transcribing chunk 15/30...\n",
            "Transcribing chunk 16/30...\n",
            "Transcribing chunk 17/30...\n",
            "Transcribing chunk 18/30...\n",
            "Transcribing chunk 19/30...\n",
            "Transcribing chunk 20/30...\n",
            "Transcribing chunk 21/30...\n",
            "Transcribing chunk 22/30...\n",
            "Transcribing chunk 23/30...\n",
            "Transcribing chunk 24/30...\n",
            "Transcribing chunk 25/30...\n",
            "Transcribing chunk 26/30...\n",
            "Transcribing chunk 27/30...\n",
            "Transcribing chunk 28/30...\n",
            "Transcribing chunk 29/30...\n",
            "Transcribing chunk 30/30...\n"
          ]
        }
      ]
    },
    {
      "cell_type": "code",
      "source": [
        "print(\"\\nFull Transcription:\\n\")\n",
        "print(full_transcription.strip())"
      ],
      "metadata": {
        "colab": {
          "base_uri": "https://localhost:8080/"
        },
        "id": "bMrH_A5gb-iJ",
        "outputId": "7d01b12d-43a7-4ff8-9330-4ebab9fbe3b6"
      },
      "execution_count": 28,
      "outputs": [
        {
          "output_type": "stream",
          "name": "stdout",
          "text": [
            "\n",
            "Full Transcription:\n",
            "\n",
            "hi there and welcome to this podcast from adapting English I'm currently helping my 16 year old soon to be 17 year old son negotiate his path to University so a lot of discussion going on in our house at the moment about his Direction he wants to be an engineer that's e n g i n e e r if you're looking at a University degree or yourself or\n",
            "children then given the huge cost of doing a degree these days is it worth it there are alternative paths and what are the best degree subjects to choose being a graduate that's g r a d u a t e and means a person with a degree a person who's been through higher education well there are many jobs and job roles which need this but which degrees are relevant which degrees pay for them\n",
            "and which ones don't that's the subject of this podcast and it will give you some great English language and vocabulary practice hello I'm Hillary and you're listening to Adept English we will help you to speak English fluently or you have to do is listen so stop listening now and find out how it works\n",
            "related topics which I might cover in subscription articles whether or not computer studies is still a relevant degree and what are the entrepreneurial opportunities for Gen Z what are the best business opportunities for young people who want to work for themselves as many genes do gen Z are rebelling against the traditional workplace and wanting to set out\n",
            "if you're interested in those topics or if you want to receive more material from a debt English then sign up for our subscription service it's quick and easy and I often say that our subscription service cost much much less than a language course but in fact our adapting English language courses cost much less than the usual price of a language course so if you're struggling with the podcast and you would like to bring\n",
            "the level of your English up then consider our courses the most common 500 words in English will plug any gaps in your basic English and activate your listening will take your level up even further podcasts and episodes will then be much easier to understand find all of this including subscription on our website adapting english.com so\n",
            "today's topic are University degrees worthwhile an article in Forbes Magazine got me thinking it's by Cherry Robinson was published on the 15th of April 2025 and the title of the article many college degrees are useless here's what is worth your money that's quite a hard-hitting title isn't it but stay with me I am the proud graduate in my first degree in your perhaps not get it\n",
            "Latin l a t i n that was the degree I completed when I was 21 years old and I had no idea what I wanted to do with it fortunately I now have a master's degree which I did years later in Psychotherapy and that's been much more useful for keeping me employed so which degree you choose really matters in the job market the article in Forbes Magazine points out that there's a background of big\n",
            "no longer insisting on people being graduates for certain job roles a survey by the Pew Research Center said that nearly half Americans believe it's less important that people have a college degree a University degree then it was 20 years ago and major companies like apple IBM and Hilton according to this article have got rid of the requirement for\n",
            "play gray for certain job roles preferring experience and practical skills so there's a growing recognition that perhaps a University degree doesn't always deliver the specific skills that employers today need and what are the specific degree that you choose well Cherry Robinson has some very pointed things to say under the heading 5° that no longer hold up she lists\n",
            "philosophy history and English as subjects which won't any longer get you a job on their own that is unless you want to teach them and then you'll probably need a teaching qualification on the top most Arts degrees of this type don't ensure what Cherry Robinson calls digital fluency or any job specific training and I can back this up I emerged from University with a\n",
            "play a 21 years old and I hadn't a clue what I wanted to do fortunately farsighted people took me on as a computer programmer and this career sustained me for around 20 years but these days no one is going to take on a Latin graduate to train as a computer programmer times have changed so a good General Degree is no longer a guarantee of employment and it's the same with\n",
            "what's the language degrees employers look at it that if you speak another language then great sometimes that can be an important Advantage but unless you want to become a language teacher you're going to need to train us something else on top of your language degree plus with the ability to learn a language online like with our own dear Adept English language is something you can learn along the way additional skills\n",
            "I don't need to spend your whole degree opportunity on learning the language what else does Jerry Robinson list well she talks about Visual and Performing Arts degrees as often ending in debt d e b t and disappointment degrees in acting dance or fine art are very enjoyable but they don't teach business skills or skills in networking or\n",
            "all the skills you need to freelance even that means to work for yourself to freelance f r e e l a n c e and yet many 17 and 18 year olds are encouraged down this path there are no definite jobs and it's just the hope of a lucky break if you do want to study an arts degree at an Arts University then my suggestion would be something like graphic design which has a clear real world business application my daughter\n",
            "graduated in 2019 with a degree in graphic design and she has had work as a graphic designer ever since that one works the article also talks about special interests degrees by this it means gender studies or ethnic studies Terry Robinson says important conversations absolutely marketable degree subjects not often the word\n",
            "marketable m a r k e t a b l e mean something that you can sell or in terms of a degree is it something that's going to get you a job so gender studies degrees and ethnic studies degrees may be important but they don't have a clearly defined job market outside of Academia outside of universities even teaching in the department where you\n",
            "did your degree there aren't going to be jobs for all the graduates doing that so if you're doing your degree for interest then these are great for exploring critical social issues but these degrees don't provide training for practical job roles also in this article with the title many college degrees are useless here's what's worth your money it's also talks about psychology and psychology\n",
            "this is a fascinating subject and hugely popular in the UK here at schools offer a psychology a level often as well but if you have a psychology degree what are the options well the NHS does employ graduate psychologists but not many of them and they're barely on minimum wage that means they're paid little more than the legal minimum if you want\n",
            "make it and have a career as a psychologist you'll need to do a doctorate after you've completed your degree so that's another 3 years full-time study in most cases there are various options for psychologists in the UK the most common path is a doctorate in Clinical Psychology so you become a clinical psychologist this is the sort of General psychologist that the NHS employs most so you will\n",
            "find a job if you have this doctorate to pursue this you need a good psychology degree and some experience working in a relevant Department probably NHS before you can even apply to the doctorate and the competition for doctoral programs in the UK is fierce hundreds of people for each place because in the UK the doctor is funded that means the government pay for it\n",
            "are the doctors that you can add on to your psychology degree and bear in mind none of these are funded you'll pay for these yourself forensic so you can do a doctor at the trains you to become a forensic psychologist that's f o r e n s i c a means to do with the subject of criminals and criminology Law and Order and the justice system very interesting\n",
            "of course and if you're a forensic psychologist you may find employment in the prison service or the probation service in the UK but you'll have to fund your training yourself other options you can train as a health psychologist another doctorate so again you pay yourself and the NHS do employees some health psychology but not many you could also trained to be an educational psychologist\n",
            "change my schools but again not many and you have to pay yourself so these are all difficult paths for psychologists the psychology doctorate that is nearest to my own qualification in Psychotherapy is the doctor in counseling psychology and this qualifies you to be a counseling psychologist and the NHS does employee counseling psychologist and like me you could work in private practice seeing\n",
            "but again you'll have to pay for it yourself when I did my master's degree in Psychotherapy the first four years of the training where exactly the same as the counseling psychology doctorate so I know what's involved it's another long and difficult path and it's expensive it's not just the cost of your tuition fees which you have to pay for yourself you're living costs but you also need to pay for your own personal\n",
            "repeat the supervision of your client work and you need to give your time for free seeing clients no one pays you for your client work whilst you're in training so it's a difficult and long path but it's well worth it it took me 5 years to get my qualification but I consider myself extremely lucky my career is so rewarding and after 25 years I still love it and I can't imagine doing\n",
            "anything else however if I done a psychology degree rather than a Latin degree in the first place my path would have been a lot easier so guiding our sons and daughters guiding our young people to choose what is the right degree for them is hugely important and close to my heart or perhaps do another podcast or episode a companion piece if you like\n",
            "what degrees are really useful for the world of work or you can read it yourself the link to the article in Forbes Magazine is in the transcript but I'll cover this in more accessible English that will make a good English lesson I hope you've enjoyed this podcast and found it useful and don't forget to share this podcast with other people that's a way of helping Adept English gain more listeners and it also means\n",
            "more people can be helped to improve their English so don't forget to share especially on Spotify and yourself don't forget to listen a number of times to this podcast to really help your brain retain any new vocabulary you know how it works enough for now have a lovely day speak to you again soon goodbye thank you so much for listening please help me tell others about this podcast\n",
            "by reviewing all writing it and please share it on social media you can find more listening lessons and a free English course at adapting english.com\n"
          ]
        }
      ]
    },
    {
      "cell_type": "code",
      "source": [],
      "metadata": {
        "id": "rh5YLE6Zc7RB"
      },
      "execution_count": null,
      "outputs": []
    }
  ]
}